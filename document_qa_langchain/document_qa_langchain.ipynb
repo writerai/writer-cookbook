{
 "cells": [
  {
   "attachments": {},
   "cell_type": "markdown",
   "metadata": {},
   "source": [
    "# Document Q&A using Langchain\n",
    "\n",
    "This notebook will go over how to use Langchain's Writer integration to answer questions based on the contents of a set of documents. It will accomplish roughly the same result as the File Q&A example in this repository, but with the added simplicity of using built in Langchain functionality."
   ]
  },
  {
   "attachments": {},
   "cell_type": "markdown",
   "metadata": {},
   "source": [
    "### Dependencies\n",
    "\n",
    "Make sure you have a virtual environment selected if you don't want to install these globally."
   ]
  },
  {
   "cell_type": "code",
   "execution_count": 80,
   "metadata": {},
   "outputs": [
    {
     "name": "stdout",
     "output_type": "stream",
     "text": [
      "huggingface/tokenizers: The current process just got forked, after parallelism has already been used. Disabling parallelism to avoid deadlocks...\n",
      "To disable this warning, you can either:\n",
      "\t- Avoid using `tokenizers` before the fork if possible\n",
      "\t- Explicitly set the environment variable TOKENIZERS_PARALLELISM=(true | false)\n",
      "Requirement already satisfied: langchain in /Users/heathexer/writer/writer-cookbook/.venv/lib/python3.10/site-packages (0.0.158)\n",
      "Requirement already satisfied: chromadb in /Users/heathexer/writer/writer-cookbook/.venv/lib/python3.10/site-packages (0.3.21)\n",
      "Requirement already satisfied: python-dotenv in /Users/heathexer/writer/writer-cookbook/.venv/lib/python3.10/site-packages (1.0.0)\n",
      "Requirement already satisfied: pypdf in /Users/heathexer/writer/writer-cookbook/.venv/lib/python3.10/site-packages (3.8.1)\n",
      "Requirement already satisfied: tenacity<9.0.0,>=8.1.0 in /Users/heathexer/writer/writer-cookbook/.venv/lib/python3.10/site-packages (from langchain) (8.2.2)\n",
      "Requirement already satisfied: requests<3,>=2 in /Users/heathexer/writer/writer-cookbook/.venv/lib/python3.10/site-packages (from langchain) (2.30.0)\n",
      "Requirement already satisfied: SQLAlchemy<3,>=1.3 in /Users/heathexer/writer/writer-cookbook/.venv/lib/python3.10/site-packages (from langchain) (2.0.12)\n",
      "Requirement already satisfied: aiohttp<4.0.0,>=3.8.3 in /Users/heathexer/writer/writer-cookbook/.venv/lib/python3.10/site-packages (from langchain) (3.8.4)\n",
      "Requirement already satisfied: numexpr<3.0.0,>=2.8.4 in /Users/heathexer/writer/writer-cookbook/.venv/lib/python3.10/site-packages (from langchain) (2.8.4)\n",
      "Requirement already satisfied: numpy<2,>=1 in /Users/heathexer/writer/writer-cookbook/.venv/lib/python3.10/site-packages (from langchain) (1.24.3)\n",
      "Requirement already satisfied: PyYAML>=5.4.1 in /Users/heathexer/writer/writer-cookbook/.venv/lib/python3.10/site-packages (from langchain) (6.0)\n",
      "Requirement already satisfied: openapi-schema-pydantic<2.0,>=1.2 in /Users/heathexer/writer/writer-cookbook/.venv/lib/python3.10/site-packages (from langchain) (1.2.4)\n",
      "Requirement already satisfied: pydantic<2,>=1 in /Users/heathexer/writer/writer-cookbook/.venv/lib/python3.10/site-packages (from langchain) (1.10.7)\n",
      "Requirement already satisfied: dataclasses-json<0.6.0,>=0.5.7 in /Users/heathexer/writer/writer-cookbook/.venv/lib/python3.10/site-packages (from langchain) (0.5.7)\n",
      "Requirement already satisfied: tqdm>=4.48.0 in /Users/heathexer/writer/writer-cookbook/.venv/lib/python3.10/site-packages (from langchain) (4.65.0)\n",
      "Requirement already satisfied: async-timeout<5.0.0,>=4.0.0 in /Users/heathexer/writer/writer-cookbook/.venv/lib/python3.10/site-packages (from langchain) (4.0.2)\n",
      "Requirement already satisfied: uvicorn[standard]>=0.18.3 in /Users/heathexer/writer/writer-cookbook/.venv/lib/python3.10/site-packages (from chromadb) (0.22.0)\n",
      "Requirement already satisfied: fastapi>=0.85.1 in /Users/heathexer/writer/writer-cookbook/.venv/lib/python3.10/site-packages (from chromadb) (0.95.1)\n",
      "Requirement already satisfied: clickhouse-connect>=0.5.7 in /Users/heathexer/writer/writer-cookbook/.venv/lib/python3.10/site-packages (from chromadb) (0.5.23)\n",
      "Requirement already satisfied: sentence-transformers>=2.2.2 in /Users/heathexer/writer/writer-cookbook/.venv/lib/python3.10/site-packages (from chromadb) (2.2.2)\n",
      "Requirement already satisfied: duckdb>=0.7.1 in /Users/heathexer/writer/writer-cookbook/.venv/lib/python3.10/site-packages (from chromadb) (0.7.1)\n",
      "Requirement already satisfied: hnswlib>=0.7 in /Users/heathexer/writer/writer-cookbook/.venv/lib/python3.10/site-packages (from chromadb) (0.7.0)\n",
      "Requirement already satisfied: pandas>=1.3 in /Users/heathexer/writer/writer-cookbook/.venv/lib/python3.10/site-packages (from chromadb) (2.0.1)\n",
      "Requirement already satisfied: posthog>=2.4.0 in /Users/heathexer/writer/writer-cookbook/.venv/lib/python3.10/site-packages (from chromadb) (3.0.1)\n",
      "Requirement already satisfied: multidict<7.0,>=4.5 in /Users/heathexer/writer/writer-cookbook/.venv/lib/python3.10/site-packages (from aiohttp<4.0.0,>=3.8.3->langchain) (6.0.4)\n",
      "Requirement already satisfied: charset-normalizer<4.0,>=2.0 in /Users/heathexer/writer/writer-cookbook/.venv/lib/python3.10/site-packages (from aiohttp<4.0.0,>=3.8.3->langchain) (3.1.0)\n",
      "Requirement already satisfied: yarl<2.0,>=1.0 in /Users/heathexer/writer/writer-cookbook/.venv/lib/python3.10/site-packages (from aiohttp<4.0.0,>=3.8.3->langchain) (1.9.2)\n",
      "Requirement already satisfied: attrs>=17.3.0 in /Users/heathexer/writer/writer-cookbook/.venv/lib/python3.10/site-packages (from aiohttp<4.0.0,>=3.8.3->langchain) (23.1.0)\n",
      "Requirement already satisfied: aiosignal>=1.1.2 in /Users/heathexer/writer/writer-cookbook/.venv/lib/python3.10/site-packages (from aiohttp<4.0.0,>=3.8.3->langchain) (1.3.1)\n",
      "Requirement already satisfied: frozenlist>=1.1.1 in /Users/heathexer/writer/writer-cookbook/.venv/lib/python3.10/site-packages (from aiohttp<4.0.0,>=3.8.3->langchain) (1.3.3)\n",
      "Requirement already satisfied: lz4 in /Users/heathexer/writer/writer-cookbook/.venv/lib/python3.10/site-packages (from clickhouse-connect>=0.5.7->chromadb) (4.3.2)\n",
      "Requirement already satisfied: certifi in /Users/heathexer/writer/writer-cookbook/.venv/lib/python3.10/site-packages (from clickhouse-connect>=0.5.7->chromadb) (2022.12.7)\n",
      "Requirement already satisfied: zstandard in /Users/heathexer/writer/writer-cookbook/.venv/lib/python3.10/site-packages (from clickhouse-connect>=0.5.7->chromadb) (0.21.0)\n",
      "Requirement already satisfied: pytz in /Users/heathexer/writer/writer-cookbook/.venv/lib/python3.10/site-packages (from clickhouse-connect>=0.5.7->chromadb) (2023.3)\n",
      "Requirement already satisfied: urllib3>=1.26 in /Users/heathexer/writer/writer-cookbook/.venv/lib/python3.10/site-packages (from clickhouse-connect>=0.5.7->chromadb) (2.0.2)\n",
      "Requirement already satisfied: typing-inspect>=0.4.0 in /Users/heathexer/writer/writer-cookbook/.venv/lib/python3.10/site-packages (from dataclasses-json<0.6.0,>=0.5.7->langchain) (0.8.0)\n",
      "Requirement already satisfied: marshmallow-enum<2.0.0,>=1.5.1 in /Users/heathexer/writer/writer-cookbook/.venv/lib/python3.10/site-packages (from dataclasses-json<0.6.0,>=0.5.7->langchain) (1.5.1)\n",
      "Requirement already satisfied: marshmallow<4.0.0,>=3.3.0 in /Users/heathexer/writer/writer-cookbook/.venv/lib/python3.10/site-packages (from dataclasses-json<0.6.0,>=0.5.7->langchain) (3.19.0)\n",
      "Requirement already satisfied: starlette<0.27.0,>=0.26.1 in /Users/heathexer/writer/writer-cookbook/.venv/lib/python3.10/site-packages (from fastapi>=0.85.1->chromadb) (0.26.1)\n",
      "Requirement already satisfied: python-dateutil>=2.8.2 in /Users/heathexer/writer/writer-cookbook/.venv/lib/python3.10/site-packages (from pandas>=1.3->chromadb) (2.8.2)\n",
      "Requirement already satisfied: tzdata>=2022.1 in /Users/heathexer/writer/writer-cookbook/.venv/lib/python3.10/site-packages (from pandas>=1.3->chromadb) (2023.3)\n",
      "Requirement already satisfied: backoff>=1.10.0 in /Users/heathexer/writer/writer-cookbook/.venv/lib/python3.10/site-packages (from posthog>=2.4.0->chromadb) (2.2.1)\n",
      "Requirement already satisfied: six>=1.5 in /Users/heathexer/writer/writer-cookbook/.venv/lib/python3.10/site-packages (from posthog>=2.4.0->chromadb) (1.16.0)\n",
      "Requirement already satisfied: monotonic>=1.5 in /Users/heathexer/writer/writer-cookbook/.venv/lib/python3.10/site-packages (from posthog>=2.4.0->chromadb) (1.6)\n",
      "Requirement already satisfied: typing-extensions>=4.2.0 in /Users/heathexer/writer/writer-cookbook/.venv/lib/python3.10/site-packages (from pydantic<2,>=1->langchain) (4.5.0)\n",
      "Requirement already satisfied: idna<4,>=2.5 in /Users/heathexer/writer/writer-cookbook/.venv/lib/python3.10/site-packages (from requests<3,>=2->langchain) (3.4)\n",
      "Requirement already satisfied: transformers<5.0.0,>=4.6.0 in /Users/heathexer/writer/writer-cookbook/.venv/lib/python3.10/site-packages (from sentence-transformers>=2.2.2->chromadb) (4.28.1)\n",
      "Requirement already satisfied: torch>=1.6.0 in /Users/heathexer/writer/writer-cookbook/.venv/lib/python3.10/site-packages (from sentence-transformers>=2.2.2->chromadb) (2.0.0)\n",
      "Requirement already satisfied: torchvision in /Users/heathexer/writer/writer-cookbook/.venv/lib/python3.10/site-packages (from sentence-transformers>=2.2.2->chromadb) (0.15.1)\n",
      "Requirement already satisfied: scikit-learn in /Users/heathexer/writer/writer-cookbook/.venv/lib/python3.10/site-packages (from sentence-transformers>=2.2.2->chromadb) (1.2.2)\n",
      "Requirement already satisfied: scipy in /Users/heathexer/writer/writer-cookbook/.venv/lib/python3.10/site-packages (from sentence-transformers>=2.2.2->chromadb) (1.10.1)\n",
      "Requirement already satisfied: nltk in /Users/heathexer/writer/writer-cookbook/.venv/lib/python3.10/site-packages (from sentence-transformers>=2.2.2->chromadb) (3.8.1)\n",
      "Requirement already satisfied: sentencepiece in /Users/heathexer/writer/writer-cookbook/.venv/lib/python3.10/site-packages (from sentence-transformers>=2.2.2->chromadb) (0.1.99)\n",
      "Requirement already satisfied: huggingface-hub>=0.4.0 in /Users/heathexer/writer/writer-cookbook/.venv/lib/python3.10/site-packages (from sentence-transformers>=2.2.2->chromadb) (0.14.1)\n",
      "Requirement already satisfied: h11>=0.8 in /Users/heathexer/writer/writer-cookbook/.venv/lib/python3.10/site-packages (from uvicorn[standard]>=0.18.3->chromadb) (0.14.0)\n",
      "Requirement already satisfied: click>=7.0 in /Users/heathexer/writer/writer-cookbook/.venv/lib/python3.10/site-packages (from uvicorn[standard]>=0.18.3->chromadb) (8.1.3)\n",
      "Requirement already satisfied: watchfiles>=0.13 in /Users/heathexer/writer/writer-cookbook/.venv/lib/python3.10/site-packages (from uvicorn[standard]>=0.18.3->chromadb) (0.19.0)\n",
      "Requirement already satisfied: websockets>=10.4 in /Users/heathexer/writer/writer-cookbook/.venv/lib/python3.10/site-packages (from uvicorn[standard]>=0.18.3->chromadb) (11.0.2)\n",
      "Requirement already satisfied: httptools>=0.5.0 in /Users/heathexer/writer/writer-cookbook/.venv/lib/python3.10/site-packages (from uvicorn[standard]>=0.18.3->chromadb) (0.5.0)\n",
      "Requirement already satisfied: uvloop!=0.15.0,!=0.15.1,>=0.14.0 in /Users/heathexer/writer/writer-cookbook/.venv/lib/python3.10/site-packages (from uvicorn[standard]>=0.18.3->chromadb) (0.17.0)\n",
      "Requirement already satisfied: filelock in /Users/heathexer/writer/writer-cookbook/.venv/lib/python3.10/site-packages (from huggingface-hub>=0.4.0->sentence-transformers>=2.2.2->chromadb) (3.12.0)\n",
      "Requirement already satisfied: fsspec in /Users/heathexer/writer/writer-cookbook/.venv/lib/python3.10/site-packages (from huggingface-hub>=0.4.0->sentence-transformers>=2.2.2->chromadb) (2023.4.0)\n",
      "Requirement already satisfied: packaging>=20.9 in /Users/heathexer/writer/writer-cookbook/.venv/lib/python3.10/site-packages (from huggingface-hub>=0.4.0->sentence-transformers>=2.2.2->chromadb) (23.1)\n",
      "Requirement already satisfied: anyio<5,>=3.4.0 in /Users/heathexer/writer/writer-cookbook/.venv/lib/python3.10/site-packages (from starlette<0.27.0,>=0.26.1->fastapi>=0.85.1->chromadb) (3.6.2)\n",
      "Requirement already satisfied: jinja2 in /Users/heathexer/writer/writer-cookbook/.venv/lib/python3.10/site-packages (from torch>=1.6.0->sentence-transformers>=2.2.2->chromadb) (3.1.2)\n",
      "Requirement already satisfied: sympy in /Users/heathexer/writer/writer-cookbook/.venv/lib/python3.10/site-packages (from torch>=1.6.0->sentence-transformers>=2.2.2->chromadb) (1.11.1)\n",
      "Requirement already satisfied: networkx in /Users/heathexer/writer/writer-cookbook/.venv/lib/python3.10/site-packages (from torch>=1.6.0->sentence-transformers>=2.2.2->chromadb) (3.1)\n",
      "Requirement already satisfied: regex!=2019.12.17 in /Users/heathexer/writer/writer-cookbook/.venv/lib/python3.10/site-packages (from transformers<5.0.0,>=4.6.0->sentence-transformers>=2.2.2->chromadb) (2023.5.5)\n",
      "Requirement already satisfied: tokenizers!=0.11.3,<0.14,>=0.11.1 in /Users/heathexer/writer/writer-cookbook/.venv/lib/python3.10/site-packages (from transformers<5.0.0,>=4.6.0->sentence-transformers>=2.2.2->chromadb) (0.13.3)\n",
      "Requirement already satisfied: mypy-extensions>=0.3.0 in /Users/heathexer/writer/writer-cookbook/.venv/lib/python3.10/site-packages (from typing-inspect>=0.4.0->dataclasses-json<0.6.0,>=0.5.7->langchain) (1.0.0)\n",
      "Requirement already satisfied: joblib in /Users/heathexer/writer/writer-cookbook/.venv/lib/python3.10/site-packages (from nltk->sentence-transformers>=2.2.2->chromadb) (1.2.0)\n",
      "Requirement already satisfied: threadpoolctl>=2.0.0 in /Users/heathexer/writer/writer-cookbook/.venv/lib/python3.10/site-packages (from scikit-learn->sentence-transformers>=2.2.2->chromadb) (3.1.0)\n",
      "Requirement already satisfied: pillow!=8.3.*,>=5.3.0 in /Users/heathexer/writer/writer-cookbook/.venv/lib/python3.10/site-packages (from torchvision->sentence-transformers>=2.2.2->chromadb) (9.5.0)\n",
      "Requirement already satisfied: sniffio>=1.1 in /Users/heathexer/writer/writer-cookbook/.venv/lib/python3.10/site-packages (from anyio<5,>=3.4.0->starlette<0.27.0,>=0.26.1->fastapi>=0.85.1->chromadb) (1.3.0)\n",
      "Requirement already satisfied: MarkupSafe>=2.0 in /Users/heathexer/writer/writer-cookbook/.venv/lib/python3.10/site-packages (from jinja2->torch>=1.6.0->sentence-transformers>=2.2.2->chromadb) (2.1.2)\n",
      "Requirement already satisfied: mpmath>=0.19 in /Users/heathexer/writer/writer-cookbook/.venv/lib/python3.10/site-packages (from sympy->torch>=1.6.0->sentence-transformers>=2.2.2->chromadb) (1.3.0)\n",
      "\n",
      "\u001b[1m[\u001b[0m\u001b[34;49mnotice\u001b[0m\u001b[1;39;49m]\u001b[0m\u001b[39;49m A new release of pip available: \u001b[0m\u001b[31;49m22.3.1\u001b[0m\u001b[39;49m -> \u001b[0m\u001b[32;49m23.1.2\u001b[0m\n",
      "\u001b[1m[\u001b[0m\u001b[34;49mnotice\u001b[0m\u001b[1;39;49m]\u001b[0m\u001b[39;49m To update, run: \u001b[0m\u001b[32;49mpip install --upgrade pip\u001b[0m\n",
      "Note: you may need to restart the kernel to use updated packages.\n"
     ]
    }
   ],
   "source": [
    "%pip install langchain chromadb python-dotenv pypdf"
   ]
  },
  {
   "cell_type": "code",
   "execution_count": 81,
   "metadata": {},
   "outputs": [],
   "source": [
    "from langchain.llms import Writer\n",
    "from langchain.chains.question_answering import load_qa_chain\n",
    "from langchain.embeddings.sentence_transformer import SentenceTransformerEmbeddings\n",
    "from langchain.text_splitter import TokenTextSplitter\n",
    "from langchain.vectorstores import Chroma\n",
    "from dotenv import load_dotenv\n",
    "import json"
   ]
  },
  {
   "attachments": {},
   "cell_type": "markdown",
   "metadata": {},
   "source": [
    "### Extracting document data\n",
    "\n",
    "The first step is to extract all of the written information from our documents. This example only handles pdfs, but it can be easily expanded to handle plaintext, markdown, etc."
   ]
  },
  {
   "cell_type": "code",
   "execution_count": 82,
   "metadata": {},
   "outputs": [],
   "source": [
    "from pypdf import PdfReader\n",
    "import os\n",
    "\n",
    "def extract_text_from_file(dir: str, filename: str):\n",
    "    file = open(f\"{dir}/{filename}\", \"rb\")\n",
    "    _, ext = os.path.splitext(filename)\n",
    "\n",
    "    if ext == \".pdf\":\n",
    "        reader = PdfReader(file)\n",
    "        text = \"\"\n",
    "        for page in reader.pages:\n",
    "            text += page.extract_text()\n",
    "\n",
    "    file.close()\n",
    "    return text"
   ]
  },
  {
   "attachments": {},
   "cell_type": "markdown",
   "metadata": {},
   "source": [
    "Next, we need to split up our text into chunks and find the most relevant ones. In the File Q&A example we did this manually, but Langchain has built in functionality to make this easier:"
   ]
  },
  {
   "cell_type": "code",
   "execution_count": 83,
   "metadata": {},
   "outputs": [],
   "source": [
    "text_splitter = TokenTextSplitter(encoding_name=\"cl100k_base\", chunk_size=150, chunk_overlap=50)\n",
    "embeddings = SentenceTransformerEmbeddings()\n",
    "\n",
    "def get_relevant_chunks(text: str, query: str):\n",
    "    chunks = text_splitter.split_text(text)\n",
    "\n",
    "    docsearch = Chroma.from_texts(chunks, embeddings).as_retriever()\n",
    "\n",
    "    relevant_chunks = docsearch.get_relevant_documents(query)\n",
    "    return relevant_chunks"
   ]
  },
  {
   "attachments": {},
   "cell_type": "markdown",
   "metadata": {},
   "source": [
    "### Getting an answer\n",
    "\n",
    "Now all we need to do is feed our query and the relevant chunks to a Writer model. We do this by first creating a qa chain of type \"stuff\" and giving it a Writer instance, then running that chain."
   ]
  },
  {
   "cell_type": "code",
   "execution_count": 84,
   "metadata": {},
   "outputs": [],
   "source": [
    "FILE_DIR = \"documents\"\n",
    "load_dotenv()\n",
    "org_id = os.environ.get(\"WRITER_ORG_ID\")\n",
    "model_id = 'palmyra-instruct'\n",
    "\n",
    "chain = load_qa_chain(\n",
    "    Writer(\n",
    "        base_url=f\"https://enterprise-api.writer.com/llm/organization/{org_id}/model/{model_id}/completions\", \n",
    "        tokens_to_generate=500\n",
    "    ), \n",
    "    chain_type=\"stuff\"\n",
    ")\n",
    "\n",
    "def run_query(query: str):\n",
    "    context = \"\"\n",
    "    for filename in os.listdir(FILE_DIR):\n",
    "        context += extract_text_from_file(FILE_DIR, filename)\n",
    "\n",
    "    relevant_chunks = get_relevant_chunks(context, query)\n",
    "\n",
    "    answer = chain.run(input_documents=relevant_chunks, question=query)\n",
    "    return json.loads(answer)[\"choices\"][0][\"text\"]"
   ]
  },
  {
   "attachments": {},
   "cell_type": "markdown",
   "metadata": {},
   "source": [
    "And then just ask it a question:"
   ]
  },
  {
   "cell_type": "code",
   "execution_count": 86,
   "metadata": {},
   "outputs": [
    {
     "name": "stderr",
     "output_type": "stream",
     "text": [
      "invalid pdf header: b'\\n%PDF'\n",
      "Using embedded DuckDB without persistence: data will be transient\n"
     ]
    },
    {
     "data": {
      "text/plain": [
       "' You can enable wifi by choosing \"Turn AirPort on\" from the AirPort'"
      ]
     },
     "execution_count": 86,
     "metadata": {},
     "output_type": "execute_result"
    }
   ],
   "source": [
    "run_query(\"How do I enable wifi?\")"
   ]
  }
 ],
 "metadata": {
  "kernelspec": {
   "display_name": ".venv",
   "language": "python",
   "name": "python3"
  },
  "language_info": {
   "codemirror_mode": {
    "name": "ipython",
    "version": 3
   },
   "file_extension": ".py",
   "mimetype": "text/x-python",
   "name": "python",
   "nbconvert_exporter": "python",
   "pygments_lexer": "ipython3",
   "version": "3.10.10"
  },
  "orig_nbformat": 4
 },
 "nbformat": 4,
 "nbformat_minor": 2
}
