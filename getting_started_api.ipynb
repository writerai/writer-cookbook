{
 "cells": [
  {
   "cell_type": "code",
   "execution_count": 57,
   "metadata": {},
   "outputs": [],
   "source": [
    "import requests\n",
    "import json"
   ]
  },
  {
   "attachments": {},
   "cell_type": "markdown",
   "metadata": {},
   "source": [
    "Before starting, you'll need to create an account at [Writer](writer.com), then grab your API Bearer token and organization ID.\n",
    "\n",
    "Create a file named `.env` in this directory with the lines \n",
    "```\n",
    "WRITER_ORG_ID=YOUR_ORG_ID\n",
    "WRITER_API_KEY=YOUR_API_KEY\n",
    "```\n",
    "or simply set the variables in the cell below."
   ]
  },
  {
   "cell_type": "code",
   "execution_count": 58,
   "metadata": {},
   "outputs": [],
   "source": [
    "from dotenv import load_dotenv\n",
    "import os\n",
    "\n",
    "load_dotenv()\n",
    "org_id = os.environ.get(\"WRITER_ORG_ID\")\n",
    "api_key = os.environ.get(\"WRITER_API_KEY\")"
   ]
  },
  {
   "attachments": {},
   "cell_type": "markdown",
   "metadata": {},
   "source": [
    "First let's request a list of models to see what's available and make sure your authorization is working:"
   ]
  },
  {
   "cell_type": "code",
   "execution_count": 59,
   "metadata": {},
   "outputs": [
    {
     "name": "stdout",
     "output_type": "stream",
     "text": [
      "{\n",
      " \"models\": [\n",
      "  {\n",
      "   \"name\": \"Palmyra Base\",\n",
      "   \"id\": \"palmyra-base\",\n",
      "   \"type\": \"GPT\"\n",
      "  },\n",
      "  {\n",
      "   \"name\": \"Palmyra Large\",\n",
      "   \"id\": \"palmyra-large\",\n",
      "   \"type\": \"GPT\"\n",
      "  },\n",
      "  {\n",
      "   \"name\": \"Palmyra Instruct\",\n",
      "   \"id\": \"palmyra-instruct\",\n",
      "   \"type\": \"Instruct\"\n",
      "  },\n",
      "  {\n",
      "   \"name\": \"PalmyraR\",\n",
      "   \"id\": \"palmyra-r\",\n",
      "   \"type\": \"GPT\"\n",
      "  }\n",
      " ]\n",
      "}\n"
     ]
    }
   ],
   "source": [
    "url = f\"https://enterprise-api.writer.com/llm/organization/{org_id}/model\"\n",
    "\n",
    "headers = {\n",
    "    \"accept\": \"application/json\",\n",
    "    \"content-type\": \"application/json\",\n",
    "    \"Authorization\": api_key\n",
    "}\n",
    "\n",
    "response = requests.get(url, headers=headers)\n",
    "\n",
    "print(json.dumps(response.json(), indent=1))"
   ]
  },
  {
   "attachments": {},
   "cell_type": "markdown",
   "metadata": {},
   "source": [
    "Let's use `palmyra-instruct` for now:"
   ]
  },
  {
   "cell_type": "code",
   "execution_count": 60,
   "metadata": {},
   "outputs": [],
   "source": [
    "model_id = \"palmyra-instruct\"\n",
    "url = f\"https://enterprise-api.writer.com/llm/organization/{org_id}/model/{model_id}/completions\"\n"
   ]
  },
  {
   "attachments": {},
   "cell_type": "markdown",
   "metadata": {},
   "source": [
    "And send a basic request:"
   ]
  },
  {
   "cell_type": "code",
   "execution_count": 61,
   "metadata": {},
   "outputs": [
    {
     "name": "stdout",
     "output_type": "stream",
     "text": [
      "{\n",
      " \"choices\": [\n",
      "  {\n",
      "   \"text\": \"\\n\\nThe sky is blue because of an effect called Rayleigh scattering. When\",\n",
      "   \"logprobs\": null\n",
      "  }\n",
      " ]\n",
      "}\n"
     ]
    }
   ],
   "source": [
    "prompt = \"why is the sky blue?\"\n",
    "\n",
    "response = requests.post(url, json={\"prompt\": prompt}, headers=headers)\n",
    "print(json.dumps(response.json(), indent=1))"
   ]
  },
  {
   "attachments": {},
   "cell_type": "markdown",
   "metadata": {},
   "source": [
    "If you run the previous code segment a few times, you'll see the explanation isn't the most detailed, and sometimes can't even finish a sentence. Let's increase the length of the response by adding a `maxTokens` parameter to our request:"
   ]
  },
  {
   "cell_type": "code",
   "execution_count": 62,
   "metadata": {},
   "outputs": [
    {
     "name": "stdout",
     "output_type": "stream",
     "text": [
      "\"\\n\\nThe sky is blue because of an effect called Rayleigh scattering, which is the scattering of light by particles in the atmosphere. When sunlight strikes the atmosphere, shorter-wavelength blue light is scattered in all directions more than other colors, giving the sky its blue color.\"\n"
     ]
    }
   ],
   "source": [
    "payload = {\n",
    "    \"prompt\": \"why is the sky blue?\",\n",
    "    \"maxTokens\": 100\n",
    "}\n",
    "\n",
    "response = requests.post(url, json=payload, headers=headers)\n",
    "\n",
    "# We can also strip the response down to just the main content to make it a bit cleaner\n",
    "if response.status_code == 200:\n",
    "    print(json.dumps(response.json()[\"choices\"][0][\"text\"], indent=1))\n",
    "else:\n",
    "    print(response)"
   ]
  },
  {
   "attachments": {},
   "cell_type": "markdown",
   "metadata": {},
   "source": [
    "Now the answer is a bit more comprehensive. But maybe you don't want the response to change every time? Setting the temperature to 0 will make the response deterministic:"
   ]
  },
  {
   "cell_type": "code",
   "execution_count": 63,
   "metadata": {},
   "outputs": [
    {
     "name": "stdout",
     "output_type": "stream",
     "text": [
      "\"\\n\\nThe sky is blue because of the way sunlight interacts with the atmosphere. When sunlight reaches Earth's atmosphere, it is scattered in all directions by all the gases and particles in the air. Blue light is scattered more than other colors because it travels as shorter, smaller waves. This is why we see a blue sky most of the time.\"\n"
     ]
    }
   ],
   "source": [
    "payload = {\n",
    "    \"prompt\": \"why is the sky blue?\",\n",
    "    \"maxTokens\": 100,\n",
    "    \"temperature\": 0\n",
    "}\n",
    "\n",
    "response = requests.post(url, json=payload, headers=headers)\n",
    "\n",
    "# We can also strip the response down to just the main content to make it a bit cleaner\n",
    "if response.status_code == 200:\n",
    "    print(json.dumps(response.json()[\"choices\"][0][\"text\"], indent=1))\n",
    "else:\n",
    "    print(response)"
   ]
  },
  {
   "attachments": {},
   "cell_type": "markdown",
   "metadata": {},
   "source": [
    "No matter how many times you ask the question it will give the same answer in the same wording. \n",
    "\n",
    "For a full list of API endpoints and available parameters see [here](https://dev.writer.com/reference).\n",
    "\n",
    "If you'd like to use the Writer Python library instead of requests, check the other examples in this repository."
   ]
  }
 ],
 "metadata": {
  "kernelspec": {
   "display_name": ".venv",
   "language": "python",
   "name": "python3"
  },
  "language_info": {
   "codemirror_mode": {
    "name": "ipython",
    "version": 3
   },
   "file_extension": ".py",
   "mimetype": "text/x-python",
   "name": "python",
   "nbconvert_exporter": "python",
   "pygments_lexer": "ipython3",
   "version": "3.10.10"
  },
  "orig_nbformat": 4
 },
 "nbformat": 4,
 "nbformat_minor": 2
}
