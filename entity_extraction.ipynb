{
 "cells": [
  {
   "attachments": {},
   "cell_type": "markdown",
   "metadata": {},
   "source": [
    "# Entity Extraction with Palmyra Instruct\n",
    "\n",
    "This example will demonstrate how to use Writer's Palmyra Instruct LLM to extract specific information from an input. For our case, we'll be pulling video game titles from the titles of Reddit posts. This type of task can be useful for getting statistics on how often people are talking about specific things, among other uses."
   ]
  },
  {
   "attachments": {},
   "cell_type": "markdown",
   "metadata": {},
   "source": [
    "### Dependencies"
   ]
  },
  {
   "cell_type": "code",
   "execution_count": 7,
   "metadata": {},
   "outputs": [
    {
     "name": "stdout",
     "output_type": "stream",
     "text": [
      "Note: you may need to restart the kernel to use updated packages.\n"
     ]
    }
   ],
   "source": [
    "%pip install -q --disable-pip-version-check \\\n",
    "    requests writerai python-dotenv"
   ]
  },
  {
   "attachments": {},
   "cell_type": "markdown",
   "metadata": {},
   "source": [
    "First, we need to set up the Writer security object. Make sure you have a `.env` file in the same directory with the following lines:\n",
    "```\n",
    "WRITER_ORG_ID=<your org ID>\n",
    "WRITER_API_KEY=<your API key>\n",
    "```\n",
    "\n",
    "or just directly set the corresponding variables in the code block."
   ]
  },
  {
   "cell_type": "code",
   "execution_count": 8,
   "metadata": {},
   "outputs": [],
   "source": [
    "from dotenv import load_dotenv\n",
    "from writer import Writer\n",
    "from writer.models.shared import Security\n",
    "import os\n",
    "\n",
    "load_dotenv()\n",
    "org_id = os.environ.get(\"WRITER_ORG_ID\")\n",
    "api_key = os.environ.get(\"WRITER_API_KEY\")\n",
    "\n",
    "writer = Writer(\n",
    "    security=Security(\n",
    "        api_key=api_key\n",
    "    ),\n",
    "    organization_id=org_id\n",
    ")"
   ]
  },
  {
   "attachments": {},
   "cell_type": "markdown",
   "metadata": {},
   "source": [
    "### Gathering data\n",
    "\n",
    "For this example, we'll use the [pushshift API](https://github.com/pushshift/api) to gather a bunch of Reddit titles. Since we're looking for video game titles, we'll pull from the \"games\" subreddit."
   ]
  },
  {
   "cell_type": "code",
   "execution_count": 9,
   "metadata": {},
   "outputs": [],
   "source": [
    "import requests\n",
    "import datetime\n",
    "\n",
    "url = \"https://api.pushshift.io/reddit/submission/search\"\n",
    "params = {\n",
    "    \"subreddit\": \"games\",\n",
    "    \"size\": \"25\",\n",
    "    \"sort_type\": \"score\",\n",
    "    \"after\": int(datetime.datetime(2023,5,1).timestamp()),\n",
    "    \"before\": int(datetime.datetime(2023,5,6).timestamp())\n",
    "}\n",
    "\n",
    "def get_titles():\n",
    "    res = requests.get(url, params=params)\n",
    "    titles = [post['title'] for post in res.json()['data']]\n",
    "    return titles"
   ]
  },
  {
   "attachments": {},
   "cell_type": "markdown",
   "metadata": {},
   "source": [
    "### Extracting titles\n",
    "\n",
    "The Palmyra Instruct model is already quite good at following instruction, so this task mostly boils down to sending the right prompt. Creating a prompt involves a bit of trial and error, e.g. changing the capitalization of the word \"none\" has given different results. \n",
    "\n",
    "In this example, the first prompt I tried had a couple of issues. One is that it would give the name of a more well-known game that sounds similar or was in the same franchise. You can see where I tried to fix that in the first commented-out line. This kind of worked, but then it would respond with \"none\" sometimes when there was clearly a correct answer. Similarly, at first it would format the name of the game differently than it was in the title (e.g. Street Fighter 6 -> Street Fighter VI). This isn't a problem per se, but indicated that the model was pulling more from its prior knowledge than the input. Both of these issues were mitigated by using the word \"extract\" instead of \"output\" or \"return\", so you can see how small of a wording difference can affect the result. I also added the line about unrecognized games to account for titles that hadn't been released yet during the model's training. This works alright as far as I can tell, but it still misses some cases as I'll talk about soon."
   ]
  },
  {
   "cell_type": "code",
   "execution_count": 10,
   "metadata": {},
   "outputs": [],
   "source": [
    "from writer.models import operations, shared\n",
    "\n",
    "def get_answer(title: str):\n",
    "    prompt = (\n",
    "        f\"Given a post, please extract the title of any video game mentioned. \"\n",
    "        # f\"Do not respond with the name of a different game in the same franchise. \"\n",
    "        f\"If something looks like a video game title, output it even if you don't recognize it. \"\n",
    "        # f\"Try to format the title of the game in the same way as the original post. \"\n",
    "        f\"If there was no specific game mentioned, just respond with \\\"none\\\".\\n\"\n",
    "        f\"Post: {title}\\nAnswer:\\n\"\n",
    "    )\n",
    "\n",
    "    req = operations.CreateCompletionRequest(\n",
    "        completion_request=shared.CompletionRequest(\n",
    "            prompt=prompt, max_tokens=50, temperature=0\n",
    "        ),\n",
    "        model_id=\"palmyra-instruct\",\n",
    "    )\n",
    "\n",
    "    res = writer.completions.create(req)\n",
    "    if res.completion_response is not None:\n",
    "        return res.completion_response.choices[0].text\n",
    "    else:\n",
    "        print(res.fail_response)"
   ]
  },
  {
   "attachments": {},
   "cell_type": "markdown",
   "metadata": {},
   "source": [
    "Now we can test it out:"
   ]
  },
  {
   "cell_type": "code",
   "execution_count": 11,
   "metadata": {},
   "outputs": [
    {
     "name": "stdout",
     "output_type": "stream",
     "text": [
      "Diablo IV | Welcome to the Server Slam\n",
      " - Diablo IV\n",
      "I need help installing SimCity\n",
      " - SimCity\n",
      "Dead island 2 live\n",
      " - Dead Island 2\n",
      "is SpongeBob SquarePants: Battle for Bikini Bottom Rehydrated a good games for core gamers\n",
      " - SpongeBob SquarePants: Battle for Bikini Bottom Rehydrated\n",
      "Gametype: Rocket Hell addon - Arena Unlimited mod for OpenArena\n",
      " - OpenArena\n",
      "CONVERGENCE: A League of Legends Story | Official Teaser Rewind\n",
      " - League of Legends\n",
      "A Pathfinder Abomination Vaults ARPG coming to Kickstarter!\n",
      " - Pathfinder Abomination Vaults\n",
      "I'm making a game 2D, combat based, platformer. Here's the first trailer, let me know what you think!\n",
      " - None\n",
      "Street Fighter 6 Was Developed With eSports In Mind, Capcom Confirms\n",
      " - Street Fighter 6\n",
      "ArenaNet Studio Update: Spring 2023 - Guild Wars 2\n",
      " - Guild Wars 2\n",
      "Riot Forge: CONV/RGENCE teaser\n",
      " - CONV/RGENCE\n",
      "BKOM Studios and @paizo are proud to reveal Pathfinder: Abomination Vaults, cooperative hack and slash ARPG!\n",
      " - Pathfinder: Abomination Vaults\n",
      "A Pathfinder: Abomination Vaults Hack &amp; Slash game coming to Kickstarter!\n",
      " - Pathfinder: Abomination Vaults\n",
      "Zelda: Tears of the Kingdom has reportedly leaked, 10 days before release.\n",
      " - Zelda: Tears of the Kingdom\n",
      "Simple customizable webgames that uses pictures to play.\n",
      " - None\n",
      "iOS app game suggestions that are similar to state of decay 2\n",
      " - State of Decay 2\n",
      "eastasiasoft Showcase #16 - Late Spring 2023\n",
      " - none\n",
      "Apex Legends: Arsenal Gameplay Trailer\n",
      " - Apex Legends\n",
      "Get ready to Dredge more eldritch aberrations from the deep\n",
      " - None\n",
      "\"I Hate Gaming With My Kids\" - Ranting about the slow death of local multiplayer\n",
      " - None\n",
      "Star Wars Jedi Survivor - DF Tech Review - PS5 vs Xbox Series X/S - Ambitious But Compromised\n",
      " - None\n",
      "I did a video on general tips and builds for first-time Deus Ex players\n",
      " - Deus Ex\n",
      "Ryo Nagamatsu (music composer at Nintendo): I have made a decision to leave the company of April 30, 2023. I will work a little wider and more directly to help those who need my help and to help the industry.\n",
      " - None\n",
      "Update to Windows 11.\n",
      " - None\n",
      "20 Years After Atari's E.T., Another Company Made The Same Mistake\n",
      " - none\n"
     ]
    }
   ],
   "source": [
    "titles =  get_titles()\n",
    "\n",
    "for title in titles:\n",
    "    answer = get_answer(title)\n",
    "    print(f\"{title}\\n - {answer}\")"
   ]
  },
  {
   "attachments": {},
   "cell_type": "markdown",
   "metadata": {},
   "source": [
    "As you can see, it got most of the correct titles and never got anything that wasn't a title. It did get a false \"none\" for a few though. \"Dredge\" is understandable since it's just a real word in the middle of a sentence, that one would be hard to find for a person without knowing about it already. For some reason I could never get \"Star Wars Jedi Survivor\" to register, testing with different prompts alternated between giving back \"none\" or \"Star Wars Jedi: Fallen Order\". The last one it missed was Atari's \"E.T.\", which is over 40 years old now and only two letters long so another understandable miss."
   ]
  },
  {
   "attachments": {},
   "cell_type": "markdown",
   "metadata": {},
   "source": [
    "Just for fun, we can change up the titles slightly to see what it would take to get them properly recognized and gain a better understanding:"
   ]
  },
  {
   "cell_type": "code",
   "execution_count": 12,
   "metadata": {},
   "outputs": [
    {
     "name": "stdout",
     "output_type": "stream",
     "text": [
      "\"Star Wars Jedi Survivor\" - DF Tech Review - PS5 vs Xbox Series X/S - Ambitious But Compromised\n",
      " - Star Wars Jedi: Fallen Order\n",
      "\"Star Wars Jedi: Survivor\" - DF Tech Review - PS5 vs Xbox Series X/S - Ambitious But Compromised\n",
      " - Star Wars Jedi: Survivor\n",
      "Get ready to \"Dredge\" more eldritch aberrations from the deep\n",
      " - Dredge\n",
      "20 Years After Atari's \"E.T.\", Another Company Made The Same Mistake\n",
      " - E.T.\n"
     ]
    }
   ],
   "source": [
    "title = \"\\\"Star Wars Jedi Survivor\\\" - DF Tech Review - PS5 vs Xbox Series X/S - Ambitious But Compromised\"\n",
    "print(f\"{title}\\n - {get_answer(title)}\")\n",
    "\n",
    "title = \"\\\"Star Wars Jedi: Survivor\\\" - DF Tech Review - PS5 vs Xbox Series X/S - Ambitious But Compromised\"\n",
    "print(f\"{title}\\n - {get_answer(title)}\")\n",
    "\n",
    "title = \"Get ready to \\\"Dredge\\\" more eldritch aberrations from the deep\"\n",
    "print(f\"{title}\\n - {get_answer(title)}\")\n",
    "\n",
    "title = \"20 Years After Atari's \\\"E.T.\\\", Another Company Made The Same Mistake\"\n",
    "print(f\"{title}\\n - {get_answer(title)}\")"
   ]
  },
  {
   "attachments": {},
   "cell_type": "markdown",
   "metadata": {},
   "source": [
    "All it took to recognize most of them was some quotes, which makes sense - clarity is one of the biggest reason us humans use quotation marks. Though notably, Jedi: Survivor needed the colon too. Maybe the model just does not want to acknowledge its existence."
   ]
  },
  {
   "attachments": {},
   "cell_type": "markdown",
   "metadata": {},
   "source": [
    "If these results aren't accurate enough for your purposes, consider looking into creating a [customized model](https://dev.writer.com/docs/custom-models). These allow for more task-specific accuracy, but may require a lot of training data in the form of [example prompt] -> [ideal output] pairs."
   ]
  }
 ],
 "metadata": {
  "kernelspec": {
   "display_name": ".venv",
   "language": "python",
   "name": "python3"
  },
  "language_info": {
   "codemirror_mode": {
    "name": "ipython",
    "version": 3
   },
   "file_extension": ".py",
   "mimetype": "text/x-python",
   "name": "python",
   "nbconvert_exporter": "python",
   "pygments_lexer": "ipython3",
   "version": "3.10.10"
  },
  "orig_nbformat": 4
 },
 "nbformat": 4,
 "nbformat_minor": 2
}
