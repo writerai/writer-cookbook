{
 "cells": [
  {
   "cell_type": "code",
   "execution_count": 119,
   "metadata": {},
   "outputs": [],
   "source": [
    "import requests\n",
    "import json"
   ]
  },
  {
   "attachments": {},
   "cell_type": "markdown",
   "metadata": {},
   "source": [
    "Before starting, you'll need to create an account at [Writer](writer.com), then grab your API Bearer token and organization ID."
   ]
  },
  {
   "cell_type": "code",
   "execution_count": 120,
   "metadata": {},
   "outputs": [],
   "source": [
    "org_id = \"******\"\n",
    "auth_token = \"******\""
   ]
  },
  {
   "attachments": {},
   "cell_type": "markdown",
   "metadata": {},
   "source": [
    "First let's request a list of models to see what's available and make sure your authorization is working:"
   ]
  },
  {
   "cell_type": "code",
   "execution_count": 121,
   "metadata": {},
   "outputs": [
    {
     "name": "stdout",
     "output_type": "stream",
     "text": [
      "{\n",
      " \"tpe\": \"fail.auth\",\n",
      " \"errors\": [\n",
      "  {\n",
      "   \"description\": \"Auth fail\",\n",
      "   \"key\": \"fail.auth.generic\",\n",
      "   \"extras\": null\n",
      "  }\n",
      " ],\n",
      " \"extras\": null\n",
      "}\n"
     ]
    }
   ],
   "source": [
    "url = f\"https://enterprise-api.writer.com/llm/organization/{org_id}/model\"\n",
    "\n",
    "headers = {\n",
    "    \"accept\": \"application/json\",\n",
    "    \"content-type\": \"application/json\",\n",
    "    \"Authorization\": auth_token\n",
    "}\n",
    "\n",
    "response = requests.get(url, headers=headers)\n",
    "\n",
    "print(json.dumps(response.json(), indent=1))"
   ]
  },
  {
   "attachments": {},
   "cell_type": "markdown",
   "metadata": {},
   "source": [
    "Let's use `palmyra-instruct` for now:"
   ]
  },
  {
   "cell_type": "code",
   "execution_count": 122,
   "metadata": {},
   "outputs": [],
   "source": [
    "model_id = \"palmyra-instruct\"\n",
    "url = f\"https://enterprise-api.writer.com/llm/organization/{org_id}/model/{model_id}/completions\"\n"
   ]
  },
  {
   "attachments": {},
   "cell_type": "markdown",
   "metadata": {},
   "source": [
    "And send a basic request:"
   ]
  },
  {
   "cell_type": "code",
   "execution_count": 123,
   "metadata": {},
   "outputs": [
    {
     "name": "stdout",
     "output_type": "stream",
     "text": [
      "{\n",
      " \"tpe\": \"fail.auth\",\n",
      " \"errors\": [\n",
      "  {\n",
      "   \"description\": \"Auth fail\",\n",
      "   \"key\": \"fail.auth.generic\",\n",
      "   \"extras\": null\n",
      "  }\n",
      " ],\n",
      " \"extras\": null\n",
      "}\n"
     ]
    }
   ],
   "source": [
    "prompt = \"why is the sky blue?\"\n",
    "\n",
    "response = requests.post(url, json={\"prompt\": prompt}, headers=headers)\n",
    "print(json.dumps(response.json(), indent=1))"
   ]
  },
  {
   "attachments": {},
   "cell_type": "markdown",
   "metadata": {},
   "source": [
    "If you run the previous code segment a few times, you'll see the explanation isn't the most detailed, and sometimes can't even finish a sentence. Let's increase the length of the response by adding a `maxTokens` parameter to our request:"
   ]
  },
  {
   "cell_type": "code",
   "execution_count": 124,
   "metadata": {},
   "outputs": [
    {
     "name": "stdout",
     "output_type": "stream",
     "text": [
      "<Response [401]>\n"
     ]
    }
   ],
   "source": [
    "payload = {\n",
    "    \"prompt\": \"why is the sky blue?\",\n",
    "    \"maxTokens\": 100\n",
    "}\n",
    "\n",
    "response = requests.post(url, json=payload, headers=headers)\n",
    "\n",
    "# We can also strip the response down to just the main content to make it a bit cleaner\n",
    "if response.status_code == 200:\n",
    "    print(json.dumps(response.json()[\"choices\"][0][\"text\"], indent=1))\n",
    "else:\n",
    "    print(response)"
   ]
  },
  {
   "attachments": {},
   "cell_type": "markdown",
   "metadata": {},
   "source": [
    "Now the answer is a bit more comprehensive. But maybe you don't want the response to change every time? Setting the temperature to 0 will make the response deterministic:"
   ]
  },
  {
   "cell_type": "code",
   "execution_count": 125,
   "metadata": {},
   "outputs": [
    {
     "name": "stdout",
     "output_type": "stream",
     "text": [
      "<Response [401]>\n"
     ]
    }
   ],
   "source": [
    "payload = {\n",
    "    \"prompt\": \"why is the sky blue?\",\n",
    "    \"maxTokens\": 100,\n",
    "    \"temperature\": 0\n",
    "}\n",
    "\n",
    "response = requests.post(url, json=payload, headers=headers)\n",
    "\n",
    "# We can also strip the response down to just the main content to make it a bit cleaner\n",
    "if response.status_code == 200:\n",
    "    print(json.dumps(response.json()[\"choices\"][0][\"text\"], indent=1))\n",
    "else:\n",
    "    print(response)"
   ]
  },
  {
   "attachments": {},
   "cell_type": "markdown",
   "metadata": {},
   "source": [
    "No matter how many times you ask the question it will give the same answer in the same wording. "
   ]
  },
  {
   "cell_type": "code",
   "execution_count": 126,
   "metadata": {},
   "outputs": [
    {
     "name": "stdout",
     "output_type": "stream",
     "text": [
      "<Response [401]>\n"
     ]
    }
   ],
   "source": [
    "payload = {\n",
    "    \"prompt\": \"Hello\",\n",
    "    \"maxTokens\": 100,\n",
    "    \"n\": 3\n",
    "}\n",
    "\n",
    "response = requests.post(url, json=payload, headers=headers)\n",
    "\n",
    "if response.status_code == 200:\n",
    "    print(json.dumps(response.json()[\"choices\"], indent=1))\n",
    "else:\n",
    "    print(response)"
   ]
  }
 ],
 "metadata": {
  "kernelspec": {
   "display_name": ".venv",
   "language": "python",
   "name": "python3"
  },
  "language_info": {
   "codemirror_mode": {
    "name": "ipython",
    "version": 3
   },
   "file_extension": ".py",
   "mimetype": "text/x-python",
   "name": "python",
   "nbconvert_exporter": "python",
   "pygments_lexer": "ipython3",
   "version": "3.10.10"
  },
  "orig_nbformat": 4
 },
 "nbformat": 4,
 "nbformat_minor": 2
}
