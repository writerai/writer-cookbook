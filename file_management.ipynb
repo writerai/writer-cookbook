{
 "cells": [
  {
   "attachments": {},
   "cell_type": "markdown",
   "metadata": {},
   "source": [
    "The Writer SDK has a few methods to interact with training data files stored with your account. This notebook will go over uploading, downloading, and deleting your JSONL files."
   ]
  },
  {
   "cell_type": "code",
   "execution_count": 1,
   "metadata": {},
   "outputs": [],
   "source": [
    "import os\n",
    "from writer import Writer\n",
    "from writer.models import operations, shared"
   ]
  },
  {
   "attachments": {},
   "cell_type": "markdown",
   "metadata": {},
   "source": [
    "First, we have to give the library our Writer API info. Create a file named `.env` in this directory with the lines \n",
    "```\n",
    "WRITER_ORG_ID=YOUR_ORG_ID\n",
    "WRITER_API_KEY=YOUR_API_KEY\n",
    "```\n",
    "or simply set the variables in the cell below."
   ]
  },
  {
   "cell_type": "code",
   "execution_count": 2,
   "metadata": {},
   "outputs": [],
   "source": [
    "from dotenv import load_dotenv\n",
    "\n",
    "load_dotenv()\n",
    "org_id = os.environ.get(\"WRITER_ORG_ID\")\n",
    "api_key = os.environ.get(\"WRITER_API_KEY\")\n",
    "\n",
    "writer = Writer(\n",
    "    security=shared.Security(\n",
    "        api_key=api_key\n",
    "    ),\n",
    "    organization_id=org_id\n",
    ")"
   ]
  },
  {
   "attachments": {},
   "cell_type": "markdown",
   "metadata": {},
   "source": [
    "To get a list of all your files, send a `ListFilesRequest` with `files.list()`. If you haven't uploaded any files, the response will just be an empty list. "
   ]
  },
  {
   "cell_type": "code",
   "execution_count": 3,
   "metadata": {},
   "outputs": [
    {
     "name": "stdout",
     "output_type": "stream",
     "text": [
      "ModelFilesResponse(files=[])\n"
     ]
    }
   ],
   "source": [
    "req = operations.ListFilesRequest()\n",
    "\n",
    "res = writer.files.list(req)\n",
    "if res.model_files_response is not None:\n",
    "    print(res.model_files_response)"
   ]
  },
  {
   "attachments": {},
   "cell_type": "markdown",
   "metadata": {},
   "source": [
    "Of course, listing your files isn't very useful if you can't interact with them. Here's an example of uploading a very basic JSONL file and then retrieving its contents from Writer servers. For more information on using files for training data see [here](https://dev.writer.com/docs/prepare-training-data)."
   ]
  },
  {
   "cell_type": "code",
   "execution_count": 4,
   "metadata": {},
   "outputs": [
    {
     "name": "stdout",
     "output_type": "stream",
     "text": [
      "UploadFileResponse(content_type='application/json', status_code=200, fail_response=None, headers={'action-id': '[uploadFile][id=5c0cf7c0-ce24-47ac-9509-f7ccb96e76c9]', 'date': 'Tue, 25 Apr 2023 23:57:42 GMT', 'content-type': 'application/json', 'content-length': '157', 'x-envoy-upstream-service-time': '202', 'x-readme-id': '512012', 'x-readme-label': '512012', 'downstream-remote-address-without-port': '130.211.0.215', 'strict-transport-security': 'max-age=86400; includeSubDomains', 'x-content-type-options': 'nosniff', 'x-xss-protection': '1; mode=block', 'x-frame-options': 'SAMEORIGIN', 'referrer-policy': 'same-origin', 'access-control-expose-headers': 'Authorization, X-AUTH-TOKEN, X-AUTH-REFRESH-TOKEN', 'content-security-policy': \"object-src 'none' ; script-src 'self' 'unsafe-eval' 'unsafe-inline' ; connect-src 'self' wss://enterprise-api.writer.com ; frame-src 'self' enterprise-api.qordoba.local https://*.writer.com ; img-src 'self' ; style-src 'self' 'unsafe-inline' ; font-src 'self' ; worker-src blob: ;\", 'server': 'envoy', 'Via': '1.1 google', 'Alt-Svc': 'h3=\":443\"; ma=2592000,h3-29=\":443\"; ma=2592000'}, model_file=ModelFile(created_at=datetime.datetime(2023, 4, 25, 23, 57, 42, 356741, tzinfo=tzutc()), format='jsonl', id='94d6c49d-575d-4966-aeda-68196b0f152b', name='test.jsonl', number_of_samples=1, size=61), raw_response=<Response [200]>)\n",
      "GetFileResponse(content_type='application/json', status_code=200, fail_response=None, headers={'action-id': '[getFile][id=13d3a4fb-cb17-4cbf-b188-66b167965422]', 'date': 'Tue, 25 Apr 2023 23:57:42 GMT', 'content-type': 'application/json', 'content-length': '154', 'x-envoy-upstream-service-time': '124', 'x-readme-id': '512012', 'x-readme-label': '512012', 'downstream-remote-address-without-port': '130.211.3.151', 'strict-transport-security': 'max-age=86400; includeSubDomains', 'x-content-type-options': 'nosniff', 'x-xss-protection': '1; mode=block', 'x-frame-options': 'SAMEORIGIN', 'referrer-policy': 'same-origin', 'access-control-expose-headers': 'Authorization, X-AUTH-TOKEN, X-AUTH-REFRESH-TOKEN', 'content-security-policy': \"object-src 'none' ; script-src 'self' 'unsafe-eval' 'unsafe-inline' ; connect-src 'self' wss://enterprise-api.writer.com ; frame-src 'self' enterprise-api.qordoba.local https://*.writer.com ; img-src 'self' ; style-src 'self' 'unsafe-inline' ; font-src 'self' ; worker-src blob: ;\", 'server': 'envoy', 'Via': '1.1 google', 'Alt-Svc': 'h3=\":443\"; ma=2592000,h3-29=\":443\"; ma=2592000'}, model_file=ModelFile(created_at=datetime.datetime(2023, 4, 25, 23, 57, 42, 356741, tzinfo=tzutc()), format='jsonl', id='94d6c49d-575d-4966-aeda-68196b0f152b', name='test.jsonl', number_of_samples=1, size=61), raw_response=<Response [200]>)\n"
     ]
    }
   ],
   "source": [
    "file = open(\"test.jsonl\", \"w\")\n",
    "file.write(\"{\\\"prompt\\\": \\\"Test prompt\\\", \\\"completion\\\": \\\"Test completion###\\\"}\")\n",
    "file.close()\n",
    "\n",
    "file = open(file.name, \"r\")\n",
    "\n",
    "req = operations.UploadFileRequest(\n",
    "    upload_model_file_request=shared.UploadModelFileRequest(\n",
    "        file=shared.UploadModelFileRequestFile(file.read(), file.name)\n",
    "    )\n",
    ")\n",
    "res = writer.files.upload(req)\n",
    "print(res)\n",
    "# Note that the file id is required to access your files, not the name\n",
    "# This means you can have multiple files share a name and access them individually\n",
    "file_id = res.model_file.id\n",
    "file.close()\n",
    "\n",
    "req = operations.GetFileRequest(file_id)\n",
    "res = writer.files.get(req)\n",
    "print(res)"
   ]
  },
  {
   "attachments": {},
   "cell_type": "markdown",
   "metadata": {},
   "source": [
    "Now if you list your files again, your uploaded file should show up"
   ]
  },
  {
   "cell_type": "code",
   "execution_count": 5,
   "metadata": {},
   "outputs": [
    {
     "name": "stdout",
     "output_type": "stream",
     "text": [
      "ModelFilesResponse(files=[ModelFile(created_at=datetime.datetime(2023, 4, 25, 23, 57, 42, 356741, tzinfo=tzutc()), format='jsonl', id='94d6c49d-575d-4966-aeda-68196b0f152b', name='test.jsonl', number_of_samples=1, size=61)])\n"
     ]
    }
   ],
   "source": [
    "req = operations.ListFilesRequest()\n",
    "\n",
    "res = writer.files.list(req)\n",
    "if res.model_files_response is not None:\n",
    "    print(res.model_files_response)"
   ]
  },
  {
   "attachments": {},
   "cell_type": "markdown",
   "metadata": {},
   "source": [
    "Run this cell to cleanup test files:"
   ]
  },
  {
   "cell_type": "code",
   "execution_count": 6,
   "metadata": {},
   "outputs": [
    {
     "name": "stdout",
     "output_type": "stream",
     "text": [
      "DeleteFileResponse(content_type='application/json', status_code=500, delete_file_200_application_json_object=None, fail_response=FailResponse(extras=None, tpe='fail.internal', errors=[FailMessage(description='Unhandled exception', extras=None, key='fail.internal.generic')]), headers={'action-id': '[deleteFile][id=e744bb79-41e1-461f-b40a-b77dd7cb2620]', 'date': 'Tue, 25 Apr 2023 23:57:42 GMT', 'content-type': 'application/json', 'content-length': '130', 'x-envoy-upstream-service-time': '97', 'x-readme-id': '512012', 'x-readme-label': '512012', 'downstream-remote-address-without-port': '130.211.3.157', 'strict-transport-security': 'max-age=86400; includeSubDomains', 'x-content-type-options': 'nosniff', 'x-xss-protection': '1; mode=block', 'x-frame-options': 'SAMEORIGIN', 'referrer-policy': 'same-origin', 'access-control-expose-headers': 'Authorization, X-AUTH-TOKEN, X-AUTH-REFRESH-TOKEN', 'content-security-policy': \"object-src 'none' ; script-src 'self' 'unsafe-eval' 'unsafe-inline' ; connect-src 'self' wss://enterprise-api.writer.com ; frame-src 'self' enterprise-api.qordoba.local https://*.writer.com ; img-src 'self' ; style-src 'self' 'unsafe-inline' ; font-src 'self' ; worker-src blob: ;\", 'server': 'envoy', 'Via': '1.1 google', 'Alt-Svc': 'h3=\":443\"; ma=2592000,h3-29=\":443\"; ma=2592000'}, raw_response=<Response [500]>)\n"
     ]
    }
   ],
   "source": [
    "if os.path.exists(file.name):\n",
    "    os.remove(file.name)\n",
    "\n",
    "req = operations.DeleteFileRequest(file_id)\n",
    "res = writer.files.delete(req)\n",
    "print(res)"
   ]
  }
 ],
 "metadata": {
  "kernelspec": {
   "display_name": ".venv",
   "language": "python",
   "name": "python3"
  },
  "language_info": {
   "codemirror_mode": {
    "name": "ipython",
    "version": 3
   },
   "file_extension": ".py",
   "mimetype": "text/x-python",
   "name": "python",
   "nbconvert_exporter": "python",
   "pygments_lexer": "ipython3",
   "version": "3.10.10"
  },
  "orig_nbformat": 4
 },
 "nbformat": 4,
 "nbformat_minor": 2
}
